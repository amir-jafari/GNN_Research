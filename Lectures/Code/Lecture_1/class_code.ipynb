{
 "cells": [
  {
   "cell_type": "code",
   "id": "initial_id",
   "metadata": {
    "collapsed": true,
    "ExecuteTime": {
     "end_time": "2025-02-26T13:19:54.434216Z",
     "start_time": "2025-02-26T13:19:48.524016Z"
    }
   },
   "source": [
    "import torch\n",
    "import torch.nn.functional as F\n",
    "import networkx as nx\n",
    "from torch_geometric.nn import GCNConv\n",
    "from torch_geometric.data import Data\n",
    "import matplotlib.pyplot as plt"
   ],
   "outputs": [],
   "execution_count": 2
  },
  {
   "metadata": {},
   "cell_type": "markdown",
   "source": "Sample Graph data ",
   "id": "d40eef22a7aab3a4"
  },
  {
   "metadata": {
    "ExecuteTime": {
     "end_time": "2025-02-11T19:42:09.183891Z",
     "start_time": "2025-02-11T19:42:09.175645Z"
    }
   },
   "cell_type": "code",
   "source": [
    "# Define the Graph data structure\n",
    "edge_index = torch.tensor([[0, 1, 0],  # From nodes (A -> B, B -> C, A -> C)\n",
    "                                [1, 2, 2]],     # To nodes\n",
    "                          dtype=torch.long)\n",
    "node_labels = [\"A\", \"B\", \"C\"]"
   ],
   "id": "c1dc02c6654820e6",
   "outputs": [],
   "execution_count": 3
  },
  {
   "metadata": {
    "ExecuteTime": {
     "end_time": "2025-02-11T19:42:11.948780Z",
     "start_time": "2025-02-11T19:42:11.945531Z"
    }
   },
   "cell_type": "code",
   "source": "graph_data = Data(edge_index=edge_index)",
   "id": "e571f9d84dc40f89",
   "outputs": [],
   "execution_count": 4
  },
  {
   "metadata": {
    "ExecuteTime": {
     "end_time": "2025-02-11T19:43:05.157378Z",
     "start_time": "2025-02-11T19:43:05.111500Z"
    }
   },
   "cell_type": "code",
   "source": [
    "# Convert to NetworkX for visualization\n",
    "G = nx.DiGraph()\n",
    "G.add_edges_from(edge_index.t().tolist())\n",
    "\n",
    "plt.figure(figsize=(4, 4))\n",
    "pos = nx.circular_layout(G)  # Automatically adjust nodes location\n",
    "nx.draw(G, pos,\n",
    "        with_labels=True, labels={i: node_labels[i] for i in range(len(node_labels))},\n",
    "        node_color='lavender',\n",
    "        edge_color='black',\n",
    "        node_size=2000,\n",
    "        font_size=12, font_weight='bold', arrows=True)\n",
    "plt.show()"
   ],
   "id": "5d940c0ecb935dd1",
   "outputs": [
    {
     "data": {
      "text/plain": [
       "<Figure size 400x400 with 1 Axes>"
      ],
      "image/png": "[encoded data removed]"
     },
     "metadata": {},
     "output_type": "display_data"
    }
   ],
   "execution_count": 8
  },
  {
   "metadata": {},
   "cell_type": "markdown",
   "source": "Simple GCN with dummy data (Node classification)",
   "id": "941f87bed91becad"
  },
  {
   "metadata": {
    "ExecuteTime": {
     "end_time": "2025-02-26T13:20:02.482319Z",
     "start_time": "2025-02-26T13:20:02.469788Z"
    }
   },
   "cell_type": "code",
   "source": [
    "# Dummy dataset\n",
    "num_nodes = 5\n",
    "num_features = 3\n",
    "num_classes = 2\n",
    "\n",
    "x = torch.randn(num_nodes, num_features) # random node features\n",
    "edge_index = torch.tensor([[0, 1, 1, 2, 3, 4], [1, 2, 3, 4, 0, 1]], dtype=torch.long) # random edges \n",
    "y = torch.tensor([0, 1, 0, 1, 0], dtype=torch.long) # random labels\n",
    "\n",
    "data = Data(x=x, edge_index=edge_index, y=y)"
   ],
   "id": "ceb7513cc48258de",
   "outputs": [],
   "execution_count": 3
  },
  {
   "metadata": {
    "ExecuteTime": {
     "end_time": "2025-02-26T13:20:05.789711Z",
     "start_time": "2025-02-26T13:20:05.786069Z"
    }
   },
   "cell_type": "code",
   "source": [
    "class SimpleGNN(torch.nn.Module):\n",
    "    def __init__(self, num_features, hidden_channels, num_classes):\n",
    "        super(SimpleGNN, self).__init__()\n",
    "        self.conv1 = GCNConv(num_features, hidden_channels)\n",
    "        self.conv2 = GCNConv(hidden_channels, num_classes)\n",
    "\n",
    "    def forward(self, x, edge_index):\n",
    "        x = self.conv1(x, edge_index)\n",
    "        x = F.relu(x)\n",
    "        x = self.conv2(x, edge_index)\n",
    "        return F.log_softmax(x, dim=1)"
   ],
   "id": "78af7619657075db",
   "outputs": [],
   "execution_count": 4
  },
  {
   "metadata": {
    "ExecuteTime": {
     "end_time": "2025-02-26T13:20:34.517849Z",
     "start_time": "2025-02-26T13:20:34.359961Z"
    }
   },
   "cell_type": "code",
   "source": [
    "model = SimpleGNN(num_features=num_features, hidden_channels=4,num_classes=num_classes)\n",
    "\n",
    "optimizer = torch.optim.Adam(model.parameters(), lr=0.01)\n",
    "criterion = torch.nn.CrossEntropyLoss()\n",
    "\n",
    "# Training loop\n",
    "for epoch in range(100):\n",
    "    model.train()\n",
    "    optimizer.zero_grad()\n",
    "    out = model(data.x, data.edge_index)\n",
    "    loss = criterion(out, data.y)\n",
    "    loss.backward()\n",
    "    optimizer.step()\n",
    "\n",
    "    if epoch % 10 == 0:\n",
    "        print(f'Epoch {epoch}, Loss: {loss.item()}')"
   ],
   "id": "eafcaba4874e24d9",
   "outputs": [
    {
     "name": "stdout",
     "output_type": "stream",
     "text": [
      "Epoch 0, Loss: 0.7024447917938232\n",
      "Epoch 10, Loss: 0.6491292715072632\n",
      "Epoch 20, Loss: 0.6135117411613464\n",
      "Epoch 30, Loss: 0.5636147856712341\n",
      "Epoch 40, Loss: 0.49988651275634766\n",
      "Epoch 50, Loss: 0.42964425683021545\n",
      "Epoch 60, Loss: 0.36007410287857056\n",
      "Epoch 70, Loss: 0.2971142530441284\n",
      "Epoch 80, Loss: 0.2433868944644928\n",
      "Epoch 90, Loss: 0.19892823696136475\n"
     ]
    }
   ],
   "execution_count": 5
  },
  {
   "metadata": {
    "ExecuteTime": {
     "end_time": "2025-02-26T13:20:44.645919Z",
     "start_time": "2025-02-26T13:20:44.630615Z"
    }
   },
   "cell_type": "code",
   "source": [
    "model.eval()\n",
    "pred = model(data.x, data.edge_index).argmax(dim=1)\n",
    "print(f'Predictions: {pred}')\n",
    "print(f'Ground Truth: {data.y}')"
   ],
   "id": "597e0f4c5ae8b6a0",
   "outputs": [
    {
     "name": "stdout",
     "output_type": "stream",
     "text": [
      "Predictions: tensor([0, 1, 0, 1, 0])\n",
      "Ground Truth: tensor([0, 1, 0, 1, 0])\n"
     ]
    }
   ],
   "execution_count": 6
  }
 ],
 "metadata": {
  "kernelspec": {
   "display_name": "Python 3",
   "language": "python",
   "name": "python3"
  },
  "language_info": {
   "codemirror_mode": {
    "name": "ipython",
    "version": 2
   },
   "file_extension": ".py",
   "mimetype": "text/x-python",
   "name": "python",
   "nbconvert_exporter": "python",
   "pygments_lexer": "ipython2",
   "version": "2.7.6"
  }
 },
 "nbformat": 4,
 "nbformat_minor": 5
}
